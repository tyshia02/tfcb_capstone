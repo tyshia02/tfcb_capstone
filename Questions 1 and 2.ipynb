{
 "cells": [
  {
   "cell_type": "markdown",
   "metadata": {},
   "source": [
    "# Analysis of tumor grade and size in ER positive and triple negative breast cancer.\n",
    "\n",
    "I used data that I tidied from the following data set: https://datadryad.org/stash/dataset/doi:10.5061/dryad.32765. The tidied data is located in the Data folder and are titled ERpositive for the ER positive tumors and TripleNegative for the triple negative tumors. \n",
    "\n",
    "Questions 1 and 2 are adressed below along with the interpretation of my results."
   ]
  },
  {
   "cell_type": "code",
   "execution_count": 173,
   "metadata": {},
   "outputs": [],
   "source": [
    "#Created a dataframe for ER postive samples only \n",
    "\n",
    "import matplotlib.pyplot as plt # for plotting\n",
    "import pandas as pd # pandas\n",
    "\n",
    "ER = 'ERPositive.csv'\n",
    "\n",
    "ER = pd.read_csv(ER) #ER positive dataframe "
   ]
  },
  {
   "cell_type": "code",
   "execution_count": 172,
   "metadata": {},
   "outputs": [
    {
     "name": "stdout",
     "output_type": "stream",
     "text": [
      "            ID  Size  Subtype  Qudrants  MR Location ML  MR Location AP  \\\n",
      "0         1.00   1.5      1.0       2.0             2.0             2.0   \n",
      "1         2.00   3.0      1.0       2.0             2.0             3.0   \n",
      "2         3.00   1.6      1.0       1.0             2.0             2.0   \n",
      "3         4.00   1.8      1.0       5.0             2.0             2.0   \n",
      "4         5.00   3.0      1.0       1.0             2.0             3.0   \n",
      "...        ...   ...      ...       ...             ...             ...   \n",
      "1097  1,086.00   NaN      3.0       2.0             1.0             2.0   \n",
      "1098  1,087.00   NaN      3.0       1.0             3.0             3.0   \n",
      "1099  1,095.00   NaN      3.0       1.0             2.0             2.0   \n",
      "1100  1,097.00   NaN      3.0       2.0             2.0             2.0   \n",
      "1101  1,100.00   NaN      3.0       3.0             3.0             2.0   \n",
      "\n",
      "      Y_distance  X_normalized  Y_normalized  Z_normalized  Tumor Grade  \\\n",
      "0            1.7           0.0           0.2           0.2          3.0   \n",
      "1            0.1           0.0           0.0           0.5          3.0   \n",
      "2            3.9           0.0           0.4           0.1          3.0   \n",
      "3            3.5           0.0           0.4           0.0          3.0   \n",
      "4            0.3          -0.1           0.1           0.0          4.0   \n",
      "...          ...           ...           ...           ...          ...   \n",
      "1097         2.5          -0.1           0.3           0.0          3.0   \n",
      "1098         0.2           0.3           0.0           0.0          3.0   \n",
      "1099         2.6           0.1           0.4           0.1          3.0   \n",
      "1100         5.4           0.0           0.5           0.2          2.0   \n",
      "1101         2.0           0.1           0.3          -0.2          3.0   \n",
      "\n",
      "      X_distance  Z_distance  Palpability  Histologic Type  \n",
      "0           -0.3         2.7          0.0              2.0  \n",
      "1           -0.4         6.7          1.0              2.0  \n",
      "2            0.2         1.2          1.0              2.0  \n",
      "3           -0.3        -0.6          0.0              2.0  \n",
      "4           -0.5         0.5          1.0              2.0  \n",
      "...          ...         ...          ...              ...  \n",
      "1097        -1.1         0.8          1.0              3.0  \n",
      "1098         2.1         0.3          1.0              3.0  \n",
      "1099         0.4         2.3          0.0              3.0  \n",
      "1100        -0.5         3.4          1.0              2.0  \n",
      "1101         1.1        -2.7          0.0              3.0  \n",
      "\n",
      "[1102 rows x 15 columns]\n"
     ]
    }
   ],
   "source": [
    "\n",
    "ER = pd.read_csv('ERPositive.csv')\n",
    "print (df)"
   ]
  },
  {
   "cell_type": "code",
   "execution_count": 55,
   "metadata": {},
   "outputs": [],
   "source": [
    "#Created a dataframe for triple negative samples only \n",
    "\n",
    "TN = 'TripleNegative.csv'\n",
    "\n",
    "TN = pd.read_csv(TN) #Triple negative dataframe\n"
   ]
  },
  {
   "cell_type": "code",
   "execution_count": 56,
   "metadata": {},
   "outputs": [
    {
     "name": "stdout",
     "output_type": "stream",
     "text": [
      "         ID  Size  Subtype  Qudrants  MR Location ML  MR Location AP  \\\n",
      "0       6.0   3.5      3.0       1.0             2.0             2.0   \n",
      "1       7.0   2.2      3.0       2.0             2.0             3.0   \n",
      "2       8.0   2.6      3.0       2.0             2.0             3.0   \n",
      "3      12.0   5.0      3.0       5.0             2.0             1.0   \n",
      "4      13.0   2.6      3.0       1.0             2.0             2.0   \n",
      "..      ...   ...      ...       ...             ...             ...   \n",
      "251  1086.0   NaN      3.0       2.0             1.0             2.0   \n",
      "252  1087.0   NaN      3.0       1.0             3.0             3.0   \n",
      "253  1095.0   NaN      3.0       1.0             2.0             2.0   \n",
      "254  1097.0   NaN      3.0       2.0             2.0             2.0   \n",
      "255  1100.0   NaN      3.0       3.0             3.0             2.0   \n",
      "\n",
      "     Y_distance  X_normalized  Y_normalized  Z_normalized  Tumor Grade  \\\n",
      "0           0.9           0.0           0.1           0.1          3.0   \n",
      "1           1.0          -0.1           0.1           0.3          3.0   \n",
      "2           1.1           0.0           0.1           0.2          3.0   \n",
      "3           2.0          -0.1           0.3           0.1          4.0   \n",
      "4           2.7           0.0           0.3           0.2          3.0   \n",
      "..          ...           ...           ...           ...          ...   \n",
      "251         2.5          -0.1           0.3           0.0          3.0   \n",
      "252         0.2           0.3           0.0           0.0          3.0   \n",
      "253         2.6           0.1           0.4           0.1          3.0   \n",
      "254         5.4           0.0           0.5           0.2          2.0   \n",
      "255         2.0           0.1           0.3          -0.2          3.0   \n",
      "\n",
      "     X_distance  Z_distance  Palpability  Histologic Type  \n",
      "0           0.0         1.3          1.0              3.0  \n",
      "1          -1.0         3.7          1.0              3.0  \n",
      "2          -0.4         3.0          1.0              3.0  \n",
      "3          -0.6         1.4          0.0              3.0  \n",
      "4           0.0         2.8          1.0              3.0  \n",
      "..          ...         ...          ...              ...  \n",
      "251        -1.1         0.8          1.0              3.0  \n",
      "252         2.1         0.3          1.0              3.0  \n",
      "253         0.4         2.3          0.0              3.0  \n",
      "254        -0.5         3.4          1.0              2.0  \n",
      "255         1.1        -2.7          0.0              3.0  \n",
      "\n",
      "[256 rows x 15 columns]\n"
     ]
    }
   ],
   "source": [
    "import pandas as pd\n",
    "\n",
    "TN = pd.read_csv('TripleNegative.csv') #create a dataframe\n",
    "print (TN)"
   ]
  },
  {
   "cell_type": "markdown",
   "metadata": {},
   "source": [
    "# Question 1:\n",
    "\n",
    "What is the total amount of the most severe tumor grade for each subtype?\n",
    "\n",
    "The rationale for this question was to get a better understanding of the cancer progression in each subtype. I wanted to see if one particular subtype had tumors that were more advanced or spreading more.\n"
   ]
  },
  {
   "cell_type": "code",
   "execution_count": 94,
   "metadata": {},
   "outputs": [
    {
     "data": {
      "text/plain": [
       "1.0     75\n",
       "4.0    150\n",
       "2.0    185\n",
       "3.0    436\n",
       "Name: Tumor Grade, dtype: int64"
      ]
     },
     "execution_count": 94,
     "metadata": {},
     "output_type": "execute_result"
    }
   ],
   "source": [
    "ER['Tumor Grade'].value_counts(ascending=True) #count the amout of each grade for ER positive tumors"
   ]
  },
  {
   "cell_type": "code",
   "execution_count": 61,
   "metadata": {},
   "outputs": [
    {
     "data": {
      "text/plain": [
       "1.0     25\n",
       "4.0     48\n",
       "2.0     56\n",
       "3.0    127\n",
       "Name: Tumor Grade, dtype: int64"
      ]
     },
     "execution_count": 61,
     "metadata": {},
     "output_type": "execute_result"
    }
   ],
   "source": [
    "TN['Tumor Grade'].value_counts(ascending=True) #count the amout of each grade for triple negative tumors"
   ]
  },
  {
   "cell_type": "code",
   "execution_count": 158,
   "metadata": {},
   "outputs": [
    {
     "data": {
      "image/png": "[encoded data removed]",
      "text/plain": [
       "<Figure size 432x288 with 1 Axes>"
      ]
     },
     "metadata": {
      "needs_background": "light"
     },
     "output_type": "display_data"
    }
   ],
   "source": [
    "#Code for graph came from: https://datatofish.com/bar-chart-python-matplotlib/\n",
    "\n",
    "Cancer = ['ER Positve','Triple Negative']\n",
    "Tumor = [436,127]\n",
    "\n",
    "plt.bar(Cancer, Tumor)\n",
    "plt.title('Cancer Type Vs Tumor Grade')\n",
    "plt.xlabel('Cancer Type')\n",
    "plt.ylabel('Total Amount of Grade 3 Tumors')\n",
    "plt.show()"
   ]
  },
  {
   "cell_type": "markdown",
   "metadata": {},
   "source": [
    "# Interpretation for question 1 \n",
    "\n",
    "Based on my analysis, the ER positive subtype has more tumors that are advanced. There is approximately 3.4 more tumors that are grade 3 in the ER positive subtype compared to the triple negative."
   ]
  },
  {
   "cell_type": "markdown",
   "metadata": {},
   "source": [
    "# Question 2:\n",
    "\n",
    "What is the distrubition of tumor size in each subtype? \n",
    "\n",
    "The rationale for this question came from my results for question 1. Since the ER positive tumors are more advanced, based on tumor grade, I wanted to see if the ER subtype would also have tumors with larger sizes. Since tumor grade is indicative of advanced disease, I woule expect the ER positive tumors to have larger sizes than the triple negative tumors. "
   ]
  },
  {
   "cell_type": "code",
   "execution_count": 171,
   "metadata": {},
   "outputs": [
    {
     "data": {
      "text/plain": [
       "Text(0, 0.5, 'Frequency')"
      ]
     },
     "execution_count": 171,
     "metadata": {},
     "output_type": "execute_result"
    },
    {
     "data": {
      "image/png": "[encoded data removed]",
      "text/plain": [
       "<Figure size 432x288 with 1 Axes>"
      ]
     },
     "metadata": {
      "needs_background": "light"
     },
     "output_type": "display_data"
    },
    {
     "data": {
      "image/png": "[encoded data removed]",
      "text/plain": [
       "<Figure size 432x288 with 1 Axes>"
      ]
     },
     "metadata": {
      "needs_background": "light"
     },
     "output_type": "display_data"
    }
   ],
   "source": [
    "#Code for graphs gotten from: https://www.marsja.se/how-to-plot-a-histogram-with-pandas-in-3-simple-steps/\n",
    "#Graph the data using a histogram get a better idea of the distribution\n",
    "\n",
    "ER.hist(column='Size', color=\"purple\")\n",
    "plt.title('Distribution of Tumor Size for ER Positive Tumors')\n",
    "plt.xlabel('Tumor Size')\n",
    "plt.ylabel('Frequency')\n",
    "\n",
    "TN.hist(column='Size', color=\"black\")\n",
    "plt.title('Distribution of Tumor Size for Triple Negative Tumors')\n",
    "plt.xlabel('Tumor Size')\n",
    "plt.ylabel('Frequency')"
   ]
  },
  {
   "cell_type": "markdown",
   "metadata": {},
   "source": [
    "# Interpretation for question 1 \n",
    "\n",
    "Based on my analysis, the ER positive subtype seems to have a wider distribution of tumor sizes and a higher frequency as well with the exception of tumor sizes between 8-10cm. "
   ]
  }
 ],
 "metadata": {
  "kernelspec": {
   "display_name": "Python 3",
   "language": "python",
   "name": "python3"
  },
  "language_info": {
   "codemirror_mode": {
    "name": "ipython",
    "version": 3
   },
   "file_extension": ".py",
   "mimetype": "text/x-python",
   "name": "python",
   "nbconvert_exporter": "python",
   "pygments_lexer": "ipython3",
   "version": "3.8.3"
  }
 },
 "nbformat": 4,
 "nbformat_minor": 4
}
