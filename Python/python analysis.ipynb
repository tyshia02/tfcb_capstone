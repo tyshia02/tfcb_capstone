{
 "cells": [
  {
   "cell_type": "markdown",
   "metadata": {},
   "source": [
    "The raw data was pretty tidy but still needed to be cleaned up. I tidied the data, then addressed my questions."
   ]
  },
  {
   "cell_type": "code",
   "execution_count": 42,
   "metadata": {},
   "outputs": [],
   "source": [
    "%matplotlib inline\n",
    "import matplotlib.pyplot as plt # for plotting\n",
    "import pandas as pd # pandas\n",
    "\n",
    "df = 'Tidy Tumor Data.csv'\n",
    "\n",
    "df = pd.read_csv(df) # df for dataframe but you can call it whatever you like\n"
   ]
  },
  {
   "cell_type": "code",
   "execution_count": 27,
   "metadata": {},
   "outputs": [
    {
     "name": "stdout",
     "output_type": "stream",
     "text": [
      "            ID  Size  Subtype  Qudrants  MR Location ML  MR Location AP  \\\n",
      "0         1.00   1.5      1.0       2.0             2.0             2.0   \n",
      "1         2.00   3.0      1.0       2.0             2.0             3.0   \n",
      "2         3.00   1.6      1.0       1.0             2.0             2.0   \n",
      "3         4.00   1.8      1.0       5.0             2.0             2.0   \n",
      "4         5.00   3.0      1.0       1.0             2.0             3.0   \n",
      "...        ...   ...      ...       ...             ...             ...   \n",
      "1097  1,086.00   NaN      3.0       2.0             1.0             2.0   \n",
      "1098  1,087.00   NaN      3.0       1.0             3.0             3.0   \n",
      "1099  1,095.00   NaN      3.0       1.0             2.0             2.0   \n",
      "1100  1,097.00   NaN      3.0       2.0             2.0             2.0   \n",
      "1101  1,100.00   NaN      3.0       3.0             3.0             2.0   \n",
      "\n",
      "      Y_distance  X_normalized  Y_normalized  Z_normalized  Tumor Grade  \\\n",
      "0            1.7           0.0           0.2           0.2          3.0   \n",
      "1            0.1           0.0           0.0           0.5          3.0   \n",
      "2            3.9           0.0           0.4           0.1          3.0   \n",
      "3            3.5           0.0           0.4           0.0          3.0   \n",
      "4            0.3          -0.1           0.1           0.0          4.0   \n",
      "...          ...           ...           ...           ...          ...   \n",
      "1097         2.5          -0.1           0.3           0.0          3.0   \n",
      "1098         0.2           0.3           0.0           0.0          3.0   \n",
      "1099         2.6           0.1           0.4           0.1          3.0   \n",
      "1100         5.4           0.0           0.5           0.2          2.0   \n",
      "1101         2.0           0.1           0.3          -0.2          3.0   \n",
      "\n",
      "      X_distance  Z_distance  Palpability  Histologic Type  \n",
      "0           -0.3         2.7          0.0              2.0  \n",
      "1           -0.4         6.7          1.0              2.0  \n",
      "2            0.2         1.2          1.0              2.0  \n",
      "3           -0.3        -0.6          0.0              2.0  \n",
      "4           -0.5         0.5          1.0              2.0  \n",
      "...          ...         ...          ...              ...  \n",
      "1097        -1.1         0.8          1.0              3.0  \n",
      "1098         2.1         0.3          1.0              3.0  \n",
      "1099         0.4         2.3          0.0              3.0  \n",
      "1100        -0.5         3.4          1.0              2.0  \n",
      "1101         1.1        -2.7          0.0              3.0  \n",
      "\n",
      "[1102 rows x 15 columns]\n"
     ]
    }
   ],
   "source": [
    "import pandas as pd\n",
    "\n",
    "df = pd.read_csv('Tidy Tumor Data.csv') #create a dataframe\n",
    "print (df)"
   ]
  },
  {
   "cell_type": "code",
   "execution_count": 40,
   "metadata": {},
   "outputs": [
    {
     "data": {
      "text/plain": [
       "(0.996, 1.75]    100\n",
       "(3.25, 4.0]      198\n",
       "(1.75, 2.5]      241\n",
       "(2.5, 3.25]      563\n",
       "Name: Tumor Grade, dtype: int64"
      ]
     },
     "execution_count": 40,
     "metadata": {},
     "output_type": "execute_result"
    }
   ],
   "source": [
    "datafile['Tumor Grade'].value_counts(bins=4, ascending=True)"
   ]
  },
  {
   "cell_type": "code",
   "execution_count": 45,
   "metadata": {},
   "outputs": [
    {
     "ename": "KeyError",
     "evalue": "'3'",
     "output_type": "error",
     "traceback": [
      "\u001b[0;31m---------------------------------------------------------------------------\u001b[0m",
      "\u001b[0;31mKeyError\u001b[0m                                  Traceback (most recent call last)",
      "\u001b[0;32m<ipython-input-45-ddf581613f04>\u001b[0m in \u001b[0;36m<module>\u001b[0;34m\u001b[0m\n\u001b[1;32m      1\u001b[0m \u001b[0mgrouped\u001b[0m \u001b[0;34m=\u001b[0m \u001b[0mdf\u001b[0m\u001b[0;34m.\u001b[0m\u001b[0mgroupby\u001b[0m\u001b[0;34m(\u001b[0m\u001b[0mdf\u001b[0m\u001b[0;34m.\u001b[0m\u001b[0mSubtype\u001b[0m\u001b[0;34m)\u001b[0m\u001b[0;34m\u001b[0m\u001b[0;34m\u001b[0m\u001b[0m\n\u001b[1;32m      2\u001b[0m \u001b[0;34m\u001b[0m\u001b[0m\n\u001b[0;32m----> 3\u001b[0;31m \u001b[0mTriple_Negative\u001b[0m\u001b[0;34m=\u001b[0m \u001b[0mgrouped\u001b[0m\u001b[0;34m.\u001b[0m\u001b[0mget_group\u001b[0m\u001b[0;34m(\u001b[0m\u001b[0;34m\"3\"\u001b[0m\u001b[0;34m)\u001b[0m\u001b[0;34m\u001b[0m\u001b[0;34m\u001b[0m\u001b[0m\n\u001b[0m",
      "\u001b[0;32m~/opt/anaconda3/lib/python3.8/site-packages/pandas/core/groupby/groupby.py\u001b[0m in \u001b[0;36mget_group\u001b[0;34m(self, name, obj)\u001b[0m\n\u001b[1;32m    808\u001b[0m         \u001b[0minds\u001b[0m \u001b[0;34m=\u001b[0m \u001b[0mself\u001b[0m\u001b[0;34m.\u001b[0m\u001b[0m_get_index\u001b[0m\u001b[0;34m(\u001b[0m\u001b[0mname\u001b[0m\u001b[0;34m)\u001b[0m\u001b[0;34m\u001b[0m\u001b[0;34m\u001b[0m\u001b[0m\n\u001b[1;32m    809\u001b[0m         \u001b[0;32mif\u001b[0m \u001b[0;32mnot\u001b[0m \u001b[0mlen\u001b[0m\u001b[0;34m(\u001b[0m\u001b[0minds\u001b[0m\u001b[0;34m)\u001b[0m\u001b[0;34m:\u001b[0m\u001b[0;34m\u001b[0m\u001b[0;34m\u001b[0m\u001b[0m\n\u001b[0;32m--> 810\u001b[0;31m             \u001b[0;32mraise\u001b[0m \u001b[0mKeyError\u001b[0m\u001b[0;34m(\u001b[0m\u001b[0mname\u001b[0m\u001b[0;34m)\u001b[0m\u001b[0;34m\u001b[0m\u001b[0;34m\u001b[0m\u001b[0m\n\u001b[0m\u001b[1;32m    811\u001b[0m \u001b[0;34m\u001b[0m\u001b[0m\n\u001b[1;32m    812\u001b[0m         \u001b[0;32mreturn\u001b[0m \u001b[0mobj\u001b[0m\u001b[0;34m.\u001b[0m\u001b[0m_take_with_is_copy\u001b[0m\u001b[0;34m(\u001b[0m\u001b[0minds\u001b[0m\u001b[0;34m,\u001b[0m \u001b[0maxis\u001b[0m\u001b[0;34m=\u001b[0m\u001b[0mself\u001b[0m\u001b[0;34m.\u001b[0m\u001b[0maxis\u001b[0m\u001b[0;34m)\u001b[0m\u001b[0;34m\u001b[0m\u001b[0;34m\u001b[0m\u001b[0m\n",
      "\u001b[0;31mKeyError\u001b[0m: '3'"
     ]
    }
   ],
   "source": [
    "grouped = df.groupby(df.Subtype)\n",
    "\n",
    "Triple_Negative= grouped.get_group(\"\")\n"
   ]
  },
  {
   "cell_type": "code",
   "execution_count": null,
   "metadata": {},
   "outputs": [],
   "source": []
  }
 ],
 "metadata": {
  "kernelspec": {
   "display_name": "Python 3",
   "language": "python",
   "name": "python3"
  },
  "language_info": {
   "codemirror_mode": {
    "name": "ipython",
    "version": 3
   },
   "file_extension": ".py",
   "mimetype": "text/x-python",
   "name": "python",
   "nbconvert_exporter": "python",
   "pygments_lexer": "ipython3",
   "version": "3.8.3"
  }
 },
 "nbformat": 4,
 "nbformat_minor": 4
}
